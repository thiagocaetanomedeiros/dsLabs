{
 "cells": [
  {
   "cell_type": "markdown",
   "id": "6a99c685-26df-4dda-b6d5-567418024dda",
   "metadata": {},
   "source": [
    "# Data Science Tools and Ecosystem"
   ]
  },
  {
   "cell_type": "markdown",
   "id": "ec117257-2a61-4dd7-a23a-0aa352c29c86",
   "metadata": {},
   "source": [
    "**Objectives:**\n",
    "- list popular languages for data scientists\n",
    "- list commonly used libraries\n",
    "- list popular data science tools\n",
    "- learn how expressions work\n",
    "\n",
    "## Author\n",
    "Thiago Caetano"
   ]
  },
  {
   "cell_type": "markdown",
   "id": "d4816aab-0c1f-4a40-adc2-11f0e9c1631d",
   "metadata": {},
   "source": [
    "In this notebook, Data Science Tools and Ecosystem are summarized."
   ]
  },
  {
   "cell_type": "markdown",
   "id": "39cb4868-bb10-45c2-86a4-f400b4830c67",
   "metadata": {},
   "source": [
    "Some of the popular languages that Data Scientists use are:\n",
    "1. Python\n",
    "3. Julia\n",
    "4. R"
   ]
  },
  {
   "cell_type": "markdown",
   "id": "68f5cfae-17fb-47ce-a510-95a62cb47a0b",
   "metadata": {},
   "source": [
    "Some of the commonly used libraries used by Data Scientists include:\n",
    "1. Tensorflow\n",
    "2. Keras\n",
    "3. Numpy\n",
    "4. Matplotlib\n",
    "5. Seaborn\n",
    "6. SciPy\n",
    "7. Scikit-learn\n",
    "8. Pandas"
   ]
  },
  {
   "cell_type": "markdown",
   "id": "7e85f468-67b0-4782-b235-1f0c73e40cc7",
   "metadata": {},
   "source": [
    "|Data Science Tools|\n",
    "|------------------|\n",
    "|Jupyter Lab       |\n",
    "|Anaconda Navigator|\n",
    "|RStudio           |"
   ]
  },
  {
   "cell_type": "markdown",
   "id": "ce4fdbce-d332-46ce-ad2b-aa09a4e2180e",
   "metadata": {},
   "source": [
    "### Below are a few examples of evaluating arithmetic expressions in Python:\n"
   ]
  },
  {
   "cell_type": "code",
   "execution_count": 4,
   "id": "de798d98-61bf-4ddd-a837-f0e5a9bddfd7",
   "metadata": {},
   "outputs": [
    {
     "data": {
      "text/plain": [
       "17"
      ]
     },
     "execution_count": 4,
     "metadata": {},
     "output_type": "execute_result"
    }
   ],
   "source": [
    "#This a simple arithmetic expression to mutiply then add integers\n",
    "(3*4)+5"
   ]
  },
  {
   "cell_type": "code",
   "execution_count": 6,
   "id": "7e6b6d92-0958-4239-a64c-1d6f444a84b1",
   "metadata": {},
   "outputs": [
    {
     "data": {
      "text/plain": [
       "3.3333333333333335"
      ]
     },
     "execution_count": 6,
     "metadata": {},
     "output_type": "execute_result"
    }
   ],
   "source": [
    "#This will convert 200 minutes to hours by diving by 60\n",
    "200/60"
   ]
  }
 ],
 "metadata": {
  "kernelspec": {
   "display_name": "Python 3 (ipykernel)",
   "language": "python",
   "name": "python3"
  },
  "language_info": {
   "codemirror_mode": {
    "name": "ipython",
    "version": 3
   },
   "file_extension": ".py",
   "mimetype": "text/x-python",
   "name": "python",
   "nbconvert_exporter": "python",
   "pygments_lexer": "ipython3",
   "version": "3.13.1"
  }
 },
 "nbformat": 4,
 "nbformat_minor": 5
}
